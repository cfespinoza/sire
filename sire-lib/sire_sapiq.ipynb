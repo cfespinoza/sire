{
 "cells": [
  {
   "cell_type": "code",
   "execution_count": 1,
   "id": "05f55287",
   "metadata": {
    "ExecuteTime": {
     "end_time": "2023-07-29T22:29:58.458006722Z",
     "start_time": "2023-07-29T22:29:57.602756323Z"
    }
   },
   "outputs": [],
   "source": [
    "import datetime\n",
    "import warnings\n",
    "from dataset import Dataset\n",
    "from extrapolations import Extrapolations\n",
    "from experiment import Experiment\n",
    "\n",
    "# comment the following when debugging\n",
    "warnings.filterwarnings(\"ignore\")"
   ]
  },
  {
   "cell_type": "markdown",
   "id": "7b576485",
   "metadata": {},
   "source": [
    "## Load SapiQ Dataset"
   ]
  },
  {
   "cell_type": "code",
   "execution_count": 2,
   "id": "27667b04",
   "metadata": {
    "ExecuteTime": {
     "end_time": "2023-07-29T22:29:58.461409007Z",
     "start_time": "2023-07-29T22:29:58.457480553Z"
    }
   },
   "outputs": [],
   "source": [
    "# change the company_id if you want to test a different company\n",
    "company_id = \"23d62860a03b91c69058cccc07fc545910a1c115d9fb22ac09b79365b4c0369f\""
   ]
  },
  {
   "cell_type": "code",
   "execution_count": 3,
   "id": "0c88628d",
   "metadata": {
    "ExecuteTime": {
     "end_time": "2023-07-29T22:29:58.493467397Z",
     "start_time": "2023-07-29T22:29:58.461183879Z"
    }
   },
   "outputs": [
    {
     "data": {
      "text/plain": "                                                    id       date  \\\n602  23d62860a03b91c69058cccc07fc545910a1c115d9fb22... 2001-04-01   \n603  23d62860a03b91c69058cccc07fc545910a1c115d9fb22... 2001-05-01   \n604  23d62860a03b91c69058cccc07fc545910a1c115d9fb22... 2001-06-01   \n605  23d62860a03b91c69058cccc07fc545910a1c115d9fb22... 2001-07-01   \n606  23d62860a03b91c69058cccc07fc545910a1c115d9fb22... 2001-08-01   \n607  23d62860a03b91c69058cccc07fc545910a1c115d9fb22... 2001-09-01   \n608  23d62860a03b91c69058cccc07fc545910a1c115d9fb22... 2001-10-01   \n609  23d62860a03b91c69058cccc07fc545910a1c115d9fb22... 2001-11-01   \n610  23d62860a03b91c69058cccc07fc545910a1c115d9fb22... 2001-12-01   \n611  23d62860a03b91c69058cccc07fc545910a1c115d9fb22... 2002-01-01   \n612  23d62860a03b91c69058cccc07fc545910a1c115d9fb22... 2002-02-01   \n613  23d62860a03b91c69058cccc07fc545910a1c115d9fb22... 2002-03-01   \n614  23d62860a03b91c69058cccc07fc545910a1c115d9fb22... 2002-04-01   \n615  23d62860a03b91c69058cccc07fc545910a1c115d9fb22... 2002-05-01   \n616  23d62860a03b91c69058cccc07fc545910a1c115d9fb22... 2002-06-01   \n617  23d62860a03b91c69058cccc07fc545910a1c115d9fb22... 2002-07-01   \n\n                                        customer_focus  \\\n602  {3345821e031f176625606aa47a2e8bf7492f22e193159...   \n603  {3345821e031f176625606aa47a2e8bf7492f22e193159...   \n604  {3345821e031f176625606aa47a2e8bf7492f22e193159...   \n605  {3345821e031f176625606aa47a2e8bf7492f22e193159...   \n606  {3345821e031f176625606aa47a2e8bf7492f22e193159...   \n607  {3345821e031f176625606aa47a2e8bf7492f22e193159...   \n608  {3345821e031f176625606aa47a2e8bf7492f22e193159...   \n609  {3345821e031f176625606aa47a2e8bf7492f22e193159...   \n610  {3345821e031f176625606aa47a2e8bf7492f22e193159...   \n611  {3345821e031f176625606aa47a2e8bf7492f22e193159...   \n612  {3345821e031f176625606aa47a2e8bf7492f22e193159...   \n613  {3345821e031f176625606aa47a2e8bf7492f22e193159...   \n614  {3345821e031f176625606aa47a2e8bf7492f22e193159...   \n615  {3345821e031f176625606aa47a2e8bf7492f22e193159...   \n616  {3345821e031f176625606aa47a2e8bf7492f22e193159...   \n617  {3345821e031f176625606aa47a2e8bf7492f22e193159...   \n\n                                               sectors      revenue  \\\n602  {3fbe5ed156f149939d9396e729af009070ccc54984b5b...   205.497026   \n603  {3fbe5ed156f149939d9396e729af009070ccc54984b5b...   166.388849   \n604  {3fbe5ed156f149939d9396e729af009070ccc54984b5b...   278.714848   \n605  {3fbe5ed156f149939d9396e729af009070ccc54984b5b...   412.424534   \n606  {3fbe5ed156f149939d9396e729af009070ccc54984b5b...   343.121483   \n607  {3fbe5ed156f149939d9396e729af009070ccc54984b5b...   416.566869   \n608  {3fbe5ed156f149939d9396e729af009070ccc54984b5b...   462.915337   \n609  {3fbe5ed156f149939d9396e729af009070ccc54984b5b...   521.953423   \n610  {3fbe5ed156f149939d9396e729af009070ccc54984b5b...   815.725319   \n611  {3fbe5ed156f149939d9396e729af009070ccc54984b5b...   874.695856   \n612  {3fbe5ed156f149939d9396e729af009070ccc54984b5b...   897.459969   \n613  {3fbe5ed156f149939d9396e729af009070ccc54984b5b...  1111.234197   \n614  {3fbe5ed156f149939d9396e729af009070ccc54984b5b...  1785.463037   \n615  {3fbe5ed156f149939d9396e729af009070ccc54984b5b...  1854.315071   \n616  {3fbe5ed156f149939d9396e729af009070ccc54984b5b...  1821.958957   \n617  {3fbe5ed156f149939d9396e729af009070ccc54984b5b...  1242.067536   \n\n     yoy_growth  next_yoy_growth  \n602    1.000441         0.809690  \n603    0.809690         1.675081  \n604    1.675081         1.479736  \n605    1.479736         0.831962  \n606    0.831962         1.214051  \n607    1.214051         1.111263  \n608    1.111263         1.127535  \n609    1.127535         1.562832  \n610    1.562832         1.072292  \n611    1.072292         1.026025  \n612    1.026025         1.238199  \n613    1.238199         1.606739  \n614    1.606739         1.038563  \n615    1.038563         0.982551  \n616    0.982551         0.681721  \n617    0.681721         1.041705  ",
      "text/html": "<div>\n<style scoped>\n    .dataframe tbody tr th:only-of-type {\n        vertical-align: middle;\n    }\n\n    .dataframe tbody tr th {\n        vertical-align: top;\n    }\n\n    .dataframe thead th {\n        text-align: right;\n    }\n</style>\n<table border=\"1\" class=\"dataframe\">\n  <thead>\n    <tr style=\"text-align: right;\">\n      <th></th>\n      <th>id</th>\n      <th>date</th>\n      <th>customer_focus</th>\n      <th>sectors</th>\n      <th>revenue</th>\n      <th>yoy_growth</th>\n      <th>next_yoy_growth</th>\n    </tr>\n  </thead>\n  <tbody>\n    <tr>\n      <th>602</th>\n      <td>23d62860a03b91c69058cccc07fc545910a1c115d9fb22...</td>\n      <td>2001-04-01</td>\n      <td>{3345821e031f176625606aa47a2e8bf7492f22e193159...</td>\n      <td>{3fbe5ed156f149939d9396e729af009070ccc54984b5b...</td>\n      <td>205.497026</td>\n      <td>1.000441</td>\n      <td>0.809690</td>\n    </tr>\n    <tr>\n      <th>603</th>\n      <td>23d62860a03b91c69058cccc07fc545910a1c115d9fb22...</td>\n      <td>2001-05-01</td>\n      <td>{3345821e031f176625606aa47a2e8bf7492f22e193159...</td>\n      <td>{3fbe5ed156f149939d9396e729af009070ccc54984b5b...</td>\n      <td>166.388849</td>\n      <td>0.809690</td>\n      <td>1.675081</td>\n    </tr>\n    <tr>\n      <th>604</th>\n      <td>23d62860a03b91c69058cccc07fc545910a1c115d9fb22...</td>\n      <td>2001-06-01</td>\n      <td>{3345821e031f176625606aa47a2e8bf7492f22e193159...</td>\n      <td>{3fbe5ed156f149939d9396e729af009070ccc54984b5b...</td>\n      <td>278.714848</td>\n      <td>1.675081</td>\n      <td>1.479736</td>\n    </tr>\n    <tr>\n      <th>605</th>\n      <td>23d62860a03b91c69058cccc07fc545910a1c115d9fb22...</td>\n      <td>2001-07-01</td>\n      <td>{3345821e031f176625606aa47a2e8bf7492f22e193159...</td>\n      <td>{3fbe5ed156f149939d9396e729af009070ccc54984b5b...</td>\n      <td>412.424534</td>\n      <td>1.479736</td>\n      <td>0.831962</td>\n    </tr>\n    <tr>\n      <th>606</th>\n      <td>23d62860a03b91c69058cccc07fc545910a1c115d9fb22...</td>\n      <td>2001-08-01</td>\n      <td>{3345821e031f176625606aa47a2e8bf7492f22e193159...</td>\n      <td>{3fbe5ed156f149939d9396e729af009070ccc54984b5b...</td>\n      <td>343.121483</td>\n      <td>0.831962</td>\n      <td>1.214051</td>\n    </tr>\n    <tr>\n      <th>607</th>\n      <td>23d62860a03b91c69058cccc07fc545910a1c115d9fb22...</td>\n      <td>2001-09-01</td>\n      <td>{3345821e031f176625606aa47a2e8bf7492f22e193159...</td>\n      <td>{3fbe5ed156f149939d9396e729af009070ccc54984b5b...</td>\n      <td>416.566869</td>\n      <td>1.214051</td>\n      <td>1.111263</td>\n    </tr>\n    <tr>\n      <th>608</th>\n      <td>23d62860a03b91c69058cccc07fc545910a1c115d9fb22...</td>\n      <td>2001-10-01</td>\n      <td>{3345821e031f176625606aa47a2e8bf7492f22e193159...</td>\n      <td>{3fbe5ed156f149939d9396e729af009070ccc54984b5b...</td>\n      <td>462.915337</td>\n      <td>1.111263</td>\n      <td>1.127535</td>\n    </tr>\n    <tr>\n      <th>609</th>\n      <td>23d62860a03b91c69058cccc07fc545910a1c115d9fb22...</td>\n      <td>2001-11-01</td>\n      <td>{3345821e031f176625606aa47a2e8bf7492f22e193159...</td>\n      <td>{3fbe5ed156f149939d9396e729af009070ccc54984b5b...</td>\n      <td>521.953423</td>\n      <td>1.127535</td>\n      <td>1.562832</td>\n    </tr>\n    <tr>\n      <th>610</th>\n      <td>23d62860a03b91c69058cccc07fc545910a1c115d9fb22...</td>\n      <td>2001-12-01</td>\n      <td>{3345821e031f176625606aa47a2e8bf7492f22e193159...</td>\n      <td>{3fbe5ed156f149939d9396e729af009070ccc54984b5b...</td>\n      <td>815.725319</td>\n      <td>1.562832</td>\n      <td>1.072292</td>\n    </tr>\n    <tr>\n      <th>611</th>\n      <td>23d62860a03b91c69058cccc07fc545910a1c115d9fb22...</td>\n      <td>2002-01-01</td>\n      <td>{3345821e031f176625606aa47a2e8bf7492f22e193159...</td>\n      <td>{3fbe5ed156f149939d9396e729af009070ccc54984b5b...</td>\n      <td>874.695856</td>\n      <td>1.072292</td>\n      <td>1.026025</td>\n    </tr>\n    <tr>\n      <th>612</th>\n      <td>23d62860a03b91c69058cccc07fc545910a1c115d9fb22...</td>\n      <td>2002-02-01</td>\n      <td>{3345821e031f176625606aa47a2e8bf7492f22e193159...</td>\n      <td>{3fbe5ed156f149939d9396e729af009070ccc54984b5b...</td>\n      <td>897.459969</td>\n      <td>1.026025</td>\n      <td>1.238199</td>\n    </tr>\n    <tr>\n      <th>613</th>\n      <td>23d62860a03b91c69058cccc07fc545910a1c115d9fb22...</td>\n      <td>2002-03-01</td>\n      <td>{3345821e031f176625606aa47a2e8bf7492f22e193159...</td>\n      <td>{3fbe5ed156f149939d9396e729af009070ccc54984b5b...</td>\n      <td>1111.234197</td>\n      <td>1.238199</td>\n      <td>1.606739</td>\n    </tr>\n    <tr>\n      <th>614</th>\n      <td>23d62860a03b91c69058cccc07fc545910a1c115d9fb22...</td>\n      <td>2002-04-01</td>\n      <td>{3345821e031f176625606aa47a2e8bf7492f22e193159...</td>\n      <td>{3fbe5ed156f149939d9396e729af009070ccc54984b5b...</td>\n      <td>1785.463037</td>\n      <td>1.606739</td>\n      <td>1.038563</td>\n    </tr>\n    <tr>\n      <th>615</th>\n      <td>23d62860a03b91c69058cccc07fc545910a1c115d9fb22...</td>\n      <td>2002-05-01</td>\n      <td>{3345821e031f176625606aa47a2e8bf7492f22e193159...</td>\n      <td>{3fbe5ed156f149939d9396e729af009070ccc54984b5b...</td>\n      <td>1854.315071</td>\n      <td>1.038563</td>\n      <td>0.982551</td>\n    </tr>\n    <tr>\n      <th>616</th>\n      <td>23d62860a03b91c69058cccc07fc545910a1c115d9fb22...</td>\n      <td>2002-06-01</td>\n      <td>{3345821e031f176625606aa47a2e8bf7492f22e193159...</td>\n      <td>{3fbe5ed156f149939d9396e729af009070ccc54984b5b...</td>\n      <td>1821.958957</td>\n      <td>0.982551</td>\n      <td>0.681721</td>\n    </tr>\n    <tr>\n      <th>617</th>\n      <td>23d62860a03b91c69058cccc07fc545910a1c115d9fb22...</td>\n      <td>2002-07-01</td>\n      <td>{3345821e031f176625606aa47a2e8bf7492f22e193159...</td>\n      <td>{3fbe5ed156f149939d9396e729af009070ccc54984b5b...</td>\n      <td>1242.067536</td>\n      <td>0.681721</td>\n      <td>1.041705</td>\n    </tr>\n  </tbody>\n</table>\n</div>"
     },
     "execution_count": 3,
     "metadata": {},
     "output_type": "execute_result"
    }
   ],
   "source": [
    "# load dataset\n",
    "dataset = Dataset(dataset_name=\"./data/sapiq.json\")\n",
    "dataset.data[dataset.data.id==company_id]"
   ]
  },
  {
   "cell_type": "markdown",
   "id": "2fa33fdb",
   "metadata": {},
   "source": [
    "## Extrapolate for one company"
   ]
  },
  {
   "cell_type": "code",
   "execution_count": null,
   "id": "f4d8447a",
   "metadata": {
    "is_executing": true
   },
   "outputs": [],
   "source": [
    "extrapolations = Extrapolations(\n",
    "    dataset=dataset,\n",
    "    org_id=company_id,\n",
    "    latest_known_dt=datetime.datetime(2001, 12, 1),\n",
    "    extrapolate_len=12,\n",
    "    n_trials=10,\n",
    "    method=\"probability_matching\",\n",
    "    yoy_step=1,\n",
    ")\n",
    "extrapolations.run(params={\"filter_type\": \"smooth\"})\n",
    "extrapolations.get_extrapolations_metric_mean_confidence_interval()"
   ]
  },
  {
   "cell_type": "markdown",
   "id": "e280e593",
   "metadata": {},
   "source": [
    "## Evaluation metrics"
   ]
  },
  {
   "cell_type": "code",
   "execution_count": null,
   "id": "0dcc59b3",
   "metadata": {},
   "outputs": [],
   "source": [
    "# NLL\n",
    "extrapolations.calculate_neg_likelihood()"
   ]
  },
  {
   "cell_type": "code",
   "execution_count": null,
   "id": "59fc7d11",
   "metadata": {},
   "outputs": [],
   "source": [
    "# ACC\n",
    "extrapolations.calculate_acc()"
   ]
  },
  {
   "cell_type": "code",
   "execution_count": null,
   "id": "86325e5d",
   "metadata": {},
   "outputs": [],
   "source": [
    "# RMSE\n",
    "extrapolations.calculate_rmse()"
   ]
  },
  {
   "cell_type": "code",
   "execution_count": null,
   "id": "40f6bdb0",
   "metadata": {},
   "outputs": [],
   "source": [
    "# MAPE\n",
    "extrapolations.calculate_mape()"
   ]
  },
  {
   "cell_type": "code",
   "execution_count": null,
   "id": "f7e01c48",
   "metadata": {},
   "outputs": [],
   "source": [
    "# PCC\n",
    "extrapolations.calculate_pcc()"
   ]
  },
  {
   "cell_type": "markdown",
   "id": "c77c886d",
   "metadata": {},
   "source": [
    "## Extrapolate for all possible dates"
   ]
  },
  {
   "cell_type": "code",
   "execution_count": null,
   "id": "359d839c",
   "metadata": {},
   "outputs": [],
   "source": [
    "experiment = Experiment(\n",
    "    dataset=dataset,\n",
    "    org_id=company_id,\n",
    "    extrapolate_len=12, # months\n",
    "    n_trials=10,\n",
    "    method=\"probability_matching\",\n",
    "    yoy_step=1,\n",
    ")\n",
    "experiment.run(params={})"
   ]
  },
  {
   "cell_type": "code",
   "execution_count": null,
   "id": "1cef8bd5",
   "metadata": {},
   "outputs": [],
   "source": [
    "# visualize prediction starting from particular date\n",
    "date_to_inspect = datetime.datetime(2002, 2, 1)\n",
    "experiment.plot_extrapolations_start_from(date_to_inspect)"
   ]
  },
  {
   "cell_type": "code",
   "execution_count": null,
   "id": "d43ba330",
   "metadata": {},
   "outputs": [],
   "source": [
    "# print the extrapolated results from the same date\n",
    "experiment.get_extrapolations_metric_mean_confidence_interval_df_fr(date_to_inspect)"
   ]
  },
  {
   "cell_type": "code",
   "execution_count": null,
   "id": "6f8afa788715e855",
   "metadata": {},
   "outputs": [],
   "source": []
  }
 ],
 "metadata": {
  "kernelspec": {
   "display_name": "Python 3 (ipykernel)",
   "language": "python",
   "name": "python3"
  },
  "language_info": {
   "codemirror_mode": {
    "name": "ipython",
    "version": 3
   },
   "file_extension": ".py",
   "mimetype": "text/x-python",
   "name": "python",
   "nbconvert_exporter": "python",
   "pygments_lexer": "ipython3",
   "version": "3.8.17"
  }
 },
 "nbformat": 4,
 "nbformat_minor": 5
}
